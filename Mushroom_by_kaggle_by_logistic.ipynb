{
  "nbformat": 4,
  "nbformat_minor": 0,
  "metadata": {
    "colab": {
      "provenance": [],
      "authorship_tag": "ABX9TyPRPqmdR82VHQ03YCPT6CfV",
      "include_colab_link": true
    },
    "kernelspec": {
      "name": "python3",
      "display_name": "Python 3"
    },
    "language_info": {
      "name": "python"
    }
  },
  "cells": [
    {
      "cell_type": "markdown",
      "metadata": {
        "id": "view-in-github",
        "colab_type": "text"
      },
      "source": [
        "<a href=\"https://colab.research.google.com/github/sanyagupta31/LLM-based-clone/blob/main/Mushroom_by_kaggle_by_logistic.ipynb\" target=\"_parent\"><img src=\"https://colab.research.google.com/assets/colab-badge.svg\" alt=\"Open In Colab\"/></a>"
      ]
    },
    {
      "cell_type": "code",
      "execution_count": 21,
      "metadata": {
        "id": "0vkuav0-3YJI"
      },
      "outputs": [],
      "source": [
        "import pandas as pd\n",
        "from sklearn.model_selection import train_test_split\n",
        "from sklearn.preprocessing import LabelEncoder,StandardScaler\n",
        "from sklearn.linear_model import LogisticRegression\n",
        "from sklearn.metrics import accuracy_score , classification_report,confusion_matrix"
      ]
    },
    {
      "cell_type": "code",
      "source": [
        "data = pd.read_csv(\"/content/mushrooms.csv\")"
      ],
      "metadata": {
        "id": "oplILJgE5usl"
      },
      "execution_count": 22,
      "outputs": []
    },
    {
      "cell_type": "code",
      "source": [
        "label_encoder = LabelEncoder()\n",
        "for column in data.columns:\n",
        "  data[column] = label_encoder.fit_transform(data[column])"
      ],
      "metadata": {
        "id": "6blG__i8-KGc"
      },
      "execution_count": 23,
      "outputs": []
    },
    {
      "cell_type": "code",
      "source": [
        "print(data.columns)"
      ],
      "metadata": {
        "colab": {
          "base_uri": "https://localhost:8080/"
        },
        "id": "5utdi10H_QTZ",
        "outputId": "0eb67e5b-c03e-4690-b9ba-1044ecf5afda"
      },
      "execution_count": 25,
      "outputs": [
        {
          "output_type": "stream",
          "name": "stdout",
          "text": [
            "Index(['class', 'cap-shape', 'cap-surface', 'cap-color', 'bruises', 'odor',\n",
            "       'gill-attachment', 'gill-spacing', 'gill-size', 'gill-color',\n",
            "       'stalk-shape', 'stalk-root', 'stalk-surface-above-ring',\n",
            "       'stalk-surface-below-ring', 'stalk-color-above-ring',\n",
            "       'stalk-color-below-ring', 'veil-type', 'veil-color', 'ring-number',\n",
            "       'ring-type', 'spore-print-color', 'population', 'habitat'],\n",
            "      dtype='object')\n"
          ]
        }
      ]
    },
    {
      "cell_type": "code",
      "source": [
        "X=data.drop('class',axis=1)\n",
        "y=data['class']"
      ],
      "metadata": {
        "id": "wK64h32o_qZ7"
      },
      "execution_count": 26,
      "outputs": []
    },
    {
      "cell_type": "code",
      "source": [
        "print(data.head())"
      ],
      "metadata": {
        "colab": {
          "base_uri": "https://localhost:8080/"
        },
        "id": "xfYAwsLd_xgg",
        "outputId": "639028df-a595-4abc-be4b-5ceb62ca40d1"
      },
      "execution_count": 27,
      "outputs": [
        {
          "output_type": "stream",
          "name": "stdout",
          "text": [
            "   class  cap-shape  cap-surface  cap-color  bruises  odor  gill-attachment  \\\n",
            "0      1          5            2          4        1     6                1   \n",
            "1      0          5            2          9        1     0                1   \n",
            "2      0          0            2          8        1     3                1   \n",
            "3      1          5            3          8        1     6                1   \n",
            "4      0          5            2          3        0     5                1   \n",
            "\n",
            "   gill-spacing  gill-size  gill-color  ...  stalk-surface-below-ring  \\\n",
            "0             0          1           4  ...                         2   \n",
            "1             0          0           4  ...                         2   \n",
            "2             0          0           5  ...                         2   \n",
            "3             0          1           5  ...                         2   \n",
            "4             1          0           4  ...                         2   \n",
            "\n",
            "   stalk-color-above-ring  stalk-color-below-ring  veil-type  veil-color  \\\n",
            "0                       7                       7          0           2   \n",
            "1                       7                       7          0           2   \n",
            "2                       7                       7          0           2   \n",
            "3                       7                       7          0           2   \n",
            "4                       7                       7          0           2   \n",
            "\n",
            "   ring-number  ring-type  spore-print-color  population  habitat  \n",
            "0            1          4                  2           3        5  \n",
            "1            1          4                  3           2        1  \n",
            "2            1          4                  3           2        3  \n",
            "3            1          4                  2           3        5  \n",
            "4            1          0                  3           0        1  \n",
            "\n",
            "[5 rows x 23 columns]\n"
          ]
        }
      ]
    },
    {
      "cell_type": "code",
      "source": [
        "x_test,X_test,y_train,ytest=train_test_split(X,y,test_size=0.2,random_state=42)"
      ],
      "metadata": {
        "id": "SI0pgqHyAE0W"
      },
      "execution_count": 30,
      "outputs": []
    },
    {
      "cell_type": "code",
      "source": [
        "import numpy as np\n",
        "\n",
        "print(\"Unique values in y_train:\", np.unique(y_train))\n",
        "print(\"Unique values in y_test:\", np.unique(y_test))\n"
      ],
      "metadata": {
        "colab": {
          "base_uri": "https://localhost:8080/"
        },
        "id": "ujwaZgwf_3dY",
        "outputId": "cbc06a82-7ab0-4979-fc5d-c1b8865ff33b"
      },
      "execution_count": 33,
      "outputs": [
        {
          "output_type": "stream",
          "name": "stdout",
          "text": [
            "Unique values in y_train: [-189.10813011 -168.28777842 -139.41603537 -132.32061925 -120.73118107\n",
            " -120.56693429 -113.98820335  -97.90373376  -92.16190829  -89.47763111\n",
            "  -77.52205699  -72.41876915  -66.7563608   -64.44810134  -59.93301783\n",
            "  -56.13152053  -54.22400971  -53.60168052  -49.39704994  -47.70308646\n",
            "  -43.34069525  -29.41629217  -25.26309361  -24.28831093  -21.33868226\n",
            "  -19.77475952  -19.03725592  -19.00817795  -17.14711508   -9.20907354\n",
            "   -8.24426797   -4.40144876   -2.01410304    0.25241832    0.55287191\n",
            "    1.04151806    3.18450127   12.82821089   16.74750721   21.36711517\n",
            "   25.91504378   28.17262926   29.43334549   29.84435399   30.46351763\n",
            "   33.02476696   33.09864093   33.9500623    35.00416753   37.57987047\n",
            "   46.90035342   48.13304103   54.09605249   61.64980523   62.86376067\n",
            "   66.19722305   69.98177002   70.47642947   71.82600923   77.34967893\n",
            "   78.46592511   86.86261829   87.19982732   87.69311784   89.33424346\n",
            "   90.87300058   96.48770689  103.57823235  105.00521074  110.01702129\n",
            "  114.13743362  121.53865914  139.05025078  147.69768122  149.52608639\n",
            "  155.80391839  159.98915317  166.8760765   167.27359376  168.91009091]\n",
            "Unique values in y_test: [-169.88770711 -149.72196684 -146.57410147  -86.26079019  -85.92775255\n",
            "  -79.38643912  -65.67061215  -55.12881128  -47.38404961  -15.121979\n",
            "   -8.44824695    1.39545048    2.59129163   16.11782999   31.15137149\n",
            "   56.79531826   95.93319253  109.86830405  138.34952339  219.30348848]\n"
          ]
        }
      ]
    },
    {
      "cell_type": "code",
      "source": [
        "import pandas as pd\n",
        "\n",
        "# Convert to Pandas Series and then find unique values\n",
        "print(\"Unique values in y_train:\", pd.Series(y_train).unique())\n",
        "print(\"Unique values in y_test:\", pd.Series(y_test).unique())\n"
      ],
      "metadata": {
        "colab": {
          "base_uri": "https://localhost:8080/"
        },
        "id": "FLUjV3ETAuWb",
        "outputId": "c96d7c11-eee8-46d9-c333-7231b8061063"
      },
      "execution_count": 34,
      "outputs": [
        {
          "output_type": "stream",
          "name": "stdout",
          "text": [
            "Unique values in y_train: [ -21.33868226   61.64980523   54.09605249  -19.03725592   -9.20907354\n",
            "  114.13743362   -8.24426797   25.91504378  -53.60168052  -54.22400971\n",
            "   -2.01410304   16.74750721 -132.32061925  -92.16190829    0.55287191\n",
            "  -89.47763111  -24.28831093  -25.26309361   89.33424346  -43.34069525\n",
            "   33.9500623   167.27359376   12.82821089  -64.44810134   35.00416753\n",
            "  -19.00817795  -66.7563608   110.01702129   78.46592511  149.52608639\n",
            "  -72.41876915   69.98177002 -113.98820335  -29.41629217  155.80391839\n",
            "  159.98915317  121.53865914 -139.41603537   46.90035342   96.48770689\n",
            " -168.28777842   33.09864093 -120.56693429   71.82600923  -77.52205699\n",
            "  105.00521074  168.91009091  -47.70308646  166.8760765   -59.93301783\n",
            "  -97.90373376   86.86261829  -19.77475952   48.13304103   28.17262926\n",
            "   77.34967893  147.69768122  103.57823235   66.19722305  -17.14711508\n",
            "    3.18450127   62.86376067   30.46351763   70.47642947 -189.10813011\n",
            "   90.87300058   33.02476696 -120.73118107    1.04151806   -4.40144876\n",
            "   87.19982732   29.43334549   37.57987047   87.69311784    0.25241832\n",
            "  139.05025078   29.84435399  -56.13152053  -49.39704994   21.36711517]\n",
            "Unique values in y_test: [ -85.92775255  -55.12881128   56.79531826  -79.38643912   95.93319253\n",
            " -169.88770711 -146.57410147  109.86830405   -8.44824695    1.39545048\n",
            "   31.15137149  138.34952339    2.59129163 -149.72196684  -47.38404961\n",
            "  -86.26079019  -15.121979    219.30348848  -65.67061215   16.11782999]\n"
          ]
        }
      ]
    },
    {
      "cell_type": "code",
      "source": [
        "import numpy as np\n",
        "import pandas as pd\n",
        "\n",
        "# Check data types\n",
        "print(\"Data type of y_train:\", type(y_train))\n",
        "print(\"Data type of y_test:\", type(y_test))\n",
        "\n",
        "# Check unique values\n",
        "print(\"Unique values in y_train:\", np.unique(y_train))\n",
        "print(\"Unique values in y_test:\", np.unique(y_test))\n"
      ],
      "metadata": {
        "colab": {
          "base_uri": "https://localhost:8080/"
        },
        "id": "-tS6EXCyAy1m",
        "outputId": "fd3db17b-c29f-41b4-94b4-75a80d6f3adb"
      },
      "execution_count": 36,
      "outputs": [
        {
          "output_type": "stream",
          "name": "stdout",
          "text": [
            "Data type of y_train: <class 'numpy.ndarray'>\n",
            "Data type of y_test: <class 'numpy.ndarray'>\n",
            "Unique values in y_train: [-189.10813011 -168.28777842 -139.41603537 -132.32061925 -120.73118107\n",
            " -120.56693429 -113.98820335  -97.90373376  -92.16190829  -89.47763111\n",
            "  -77.52205699  -72.41876915  -66.7563608   -64.44810134  -59.93301783\n",
            "  -56.13152053  -54.22400971  -53.60168052  -49.39704994  -47.70308646\n",
            "  -43.34069525  -29.41629217  -25.26309361  -24.28831093  -21.33868226\n",
            "  -19.77475952  -19.03725592  -19.00817795  -17.14711508   -9.20907354\n",
            "   -8.24426797   -4.40144876   -2.01410304    0.25241832    0.55287191\n",
            "    1.04151806    3.18450127   12.82821089   16.74750721   21.36711517\n",
            "   25.91504378   28.17262926   29.43334549   29.84435399   30.46351763\n",
            "   33.02476696   33.09864093   33.9500623    35.00416753   37.57987047\n",
            "   46.90035342   48.13304103   54.09605249   61.64980523   62.86376067\n",
            "   66.19722305   69.98177002   70.47642947   71.82600923   77.34967893\n",
            "   78.46592511   86.86261829   87.19982732   87.69311784   89.33424346\n",
            "   90.87300058   96.48770689  103.57823235  105.00521074  110.01702129\n",
            "  114.13743362  121.53865914  139.05025078  147.69768122  149.52608639\n",
            "  155.80391839  159.98915317  166.8760765   167.27359376  168.91009091]\n",
            "Unique values in y_test: [-169.88770711 -149.72196684 -146.57410147  -86.26079019  -85.92775255\n",
            "  -79.38643912  -65.67061215  -55.12881128  -47.38404961  -15.121979\n",
            "   -8.44824695    1.39545048    2.59129163   16.11782999   31.15137149\n",
            "   56.79531826   95.93319253  109.86830405  138.34952339  219.30348848]\n"
          ]
        }
      ]
    },
    {
      "cell_type": "code",
      "source": [
        "print(\"Unique values in y_train:\", np.unique(y_train))\n",
        "print(\"Unique values in y_test:\", np.unique(y_test))\n",
        "print(\"Data type of y_train:\", type(y_train))\n",
        "print(\"Data type of y_test:\", type(y_test))"
      ],
      "metadata": {
        "colab": {
          "base_uri": "https://localhost:8080/"
        },
        "id": "jSppjHA8BH15",
        "outputId": "710ec03c-52ec-4a90-cf19-e2eeba0cf499"
      },
      "execution_count": 37,
      "outputs": [
        {
          "output_type": "stream",
          "name": "stdout",
          "text": [
            "Unique values in y_train: [-189.10813011 -168.28777842 -139.41603537 -132.32061925 -120.73118107\n",
            " -120.56693429 -113.98820335  -97.90373376  -92.16190829  -89.47763111\n",
            "  -77.52205699  -72.41876915  -66.7563608   -64.44810134  -59.93301783\n",
            "  -56.13152053  -54.22400971  -53.60168052  -49.39704994  -47.70308646\n",
            "  -43.34069525  -29.41629217  -25.26309361  -24.28831093  -21.33868226\n",
            "  -19.77475952  -19.03725592  -19.00817795  -17.14711508   -9.20907354\n",
            "   -8.24426797   -4.40144876   -2.01410304    0.25241832    0.55287191\n",
            "    1.04151806    3.18450127   12.82821089   16.74750721   21.36711517\n",
            "   25.91504378   28.17262926   29.43334549   29.84435399   30.46351763\n",
            "   33.02476696   33.09864093   33.9500623    35.00416753   37.57987047\n",
            "   46.90035342   48.13304103   54.09605249   61.64980523   62.86376067\n",
            "   66.19722305   69.98177002   70.47642947   71.82600923   77.34967893\n",
            "   78.46592511   86.86261829   87.19982732   87.69311784   89.33424346\n",
            "   90.87300058   96.48770689  103.57823235  105.00521074  110.01702129\n",
            "  114.13743362  121.53865914  139.05025078  147.69768122  149.52608639\n",
            "  155.80391839  159.98915317  166.8760765   167.27359376  168.91009091]\n",
            "Unique values in y_test: [-169.88770711 -149.72196684 -146.57410147  -86.26079019  -85.92775255\n",
            "  -79.38643912  -65.67061215  -55.12881128  -47.38404961  -15.121979\n",
            "   -8.44824695    1.39545048    2.59129163   16.11782999   31.15137149\n",
            "   56.79531826   95.93319253  109.86830405  138.34952339  219.30348848]\n",
            "Data type of y_train: <class 'numpy.ndarray'>\n",
            "Data type of y_test: <class 'numpy.ndarray'>\n"
          ]
        }
      ]
    },
    {
      "cell_type": "code",
      "source": [
        "# Example of converting continuous targets to categorical (if needed)\n",
        "from sklearn.preprocessing import Binarizer\n",
        "\n",
        "# Apply binarization or any other suitable transformation\n",
        "binarizer = Binarizer()\n",
        "y_binarized = binarizer.fit_transform(y.reshape(-1, 1)).ravel()  # For binary classification\n",
        "\n",
        "# Use the transformed data\n",
        "X_train, X_test, y_train, y_test = train_test_split(X, y_binarized, test_size=0.2, random_state=42)\n"
      ],
      "metadata": {
        "id": "GCRECeSwBS6y"
      },
      "execution_count": 39,
      "outputs": []
    },
    {
      "cell_type": "code",
      "source": [
        "# Train the Logistic Regression model\n",
        "logreg = LogisticRegression(max_iter=1000)\n",
        "logreg.fit(X_train, y_train)\n",
        "\n",
        "# Predict on the test set\n",
        "y_pred = logreg.predict(X_test)\n",
        "\n",
        "# Evaluate the model\n",
        "print(\"Accuracy:\", accuracy_score(y_test, y_pred))\n",
        "print(\"Confusion Matrix:\\n\", confusion_matrix(y_test, y_pred))\n",
        "print(\"Classification Report:\\n\", classification_report(y_test, y_pred))\n"
      ],
      "metadata": {
        "colab": {
          "base_uri": "https://localhost:8080/"
        },
        "id": "2uqVzmkRBYH9",
        "outputId": "9cdf1893-b2df-4b60-cc33-6935f97881c4"
      },
      "execution_count": 40,
      "outputs": [
        {
          "output_type": "stream",
          "name": "stdout",
          "text": [
            "Accuracy: 0.95\n",
            "Confusion Matrix:\n",
            " [[11  1]\n",
            " [ 0  8]]\n",
            "Classification Report:\n",
            "               precision    recall  f1-score   support\n",
            "\n",
            "         0.0       1.00      0.92      0.96        12\n",
            "         1.0       0.89      1.00      0.94         8\n",
            "\n",
            "    accuracy                           0.95        20\n",
            "   macro avg       0.94      0.96      0.95        20\n",
            "weighted avg       0.96      0.95      0.95        20\n",
            "\n"
          ]
        }
      ]
    }
  ]
}