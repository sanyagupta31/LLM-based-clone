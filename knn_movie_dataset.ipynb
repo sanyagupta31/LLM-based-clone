{
  "nbformat": 4,
  "nbformat_minor": 0,
  "metadata": {
    "colab": {
      "provenance": [],
      "authorship_tag": "ABX9TyNdfadYvfBpzdBtyuVycbbL",
      "include_colab_link": true
    },
    "kernelspec": {
      "name": "python3",
      "display_name": "Python 3"
    },
    "language_info": {
      "name": "python"
    }
  },
  "cells": [
    {
      "cell_type": "markdown",
      "metadata": {
        "id": "view-in-github",
        "colab_type": "text"
      },
      "source": [
        "<a href=\"https://colab.research.google.com/github/sanyagupta31/LLM-based-clone/blob/main/knn_movie_dataset.ipynb\" target=\"_parent\"><img src=\"https://colab.research.google.com/assets/colab-badge.svg\" alt=\"Open In Colab\"/></a>"
      ]
    },
    {
      "cell_type": "code",
      "execution_count": null,
      "metadata": {
        "id": "LxNyDpbTGu6a"
      },
      "outputs": [],
      "source": [
        "import numpy as np\n",
        "import pandas as pd\n",
        "from collections import Counter\n",
        "from sklearn.metrics import accuracy_score"
      ]
    },
    {
      "cell_type": "code",
      "source": [
        "# movie data sets variable name as my name sanygupta as san_gup\n",
        "san_gup_train = np.array([[100, 0], [0, 100], [15, 90], [85, 20]])\n",
        "san_gup_classes = np.array([1, 0, 0, 1])  # 1 = Comedy, 0 = Action\n"
      ],
      "metadata": {
        "id": "57EN_PCpG8P2"
      },
      "execution_count": null,
      "outputs": []
    },
    {
      "cell_type": "code",
      "source": [
        "# Validation Data\n",
        "VAL_val = np.array([[95, 6], [85, 15]])\n",
        "VAL_classes = np.array([0, 1])  # 0 = Action, 1 = Comedy\n"
      ],
      "metadata": {
        "id": "vwNl6gDJHHXE"
      },
      "execution_count": null,
      "outputs": []
    },
    {
      "cell_type": "code",
      "source": [
        "# Test Data\n",
        "TEST_test = np.array([[70, 6], [93, 23], [50, 50]])\n"
      ],
      "metadata": {
        "id": "ud9UsyFXHK3Y"
      },
      "execution_count": null,
      "outputs": []
    },
    {
      "cell_type": "code",
      "source": [
        "# Function to compute Euclidean distance\n",
        "def distance_ecu(x_train, x_test_point):\n",
        "    distances = []\n",
        "    for row in range(len(x_train)):\n",
        "        current_train_point = x_train[row]\n",
        "        current_distance = np.sqrt(np.sum((current_train_point - x_test_point) ** 2))\n",
        "        distances.append(current_distance)\n",
        "    distances = pd.DataFrame(data=distances, columns=['dist'])\n",
        "    return distances"
      ],
      "metadata": {
        "id": "1zxWIhitHOYm"
      },
      "execution_count": null,
      "outputs": []
    },
    {
      "cell_type": "code",
      "source": [
        "# Function to find the nearest K neighbors\n",
        "def nearest_neighbors(distance_point, K):\n",
        "    df_nearest = distance_point.sort_values(by=['dist'], axis=0)\n",
        "    df_nearest = df_nearest[:K]\n",
        "    return df_nearest\n"
      ],
      "metadata": {
        "id": "pT1A-06-HWao"
      },
      "execution_count": null,
      "outputs": []
    },
    {
      "cell_type": "code",
      "source": [
        "# Function to perform voting\n",
        "def voting(df_nearest, y_train):\n",
        "    counter_vote = Counter(y_train[df_nearest.index])\n",
        "    y_pred = counter_vote.most_common()[0][0]\n",
        "    return y_pred"
      ],
      "metadata": {
        "id": "-cyTX6upHZiK"
      },
      "execution_count": null,
      "outputs": []
    },
    {
      "cell_type": "code",
      "source": [
        "# KNN from scratch\n",
        "def KNN_from_scratch(x_train, y_train, x_test, K):\n",
        "    y_pred = []\n",
        "    for x_test_point in x_test:\n",
        "        distance_point = distance_ecu(x_train, x_test_point)\n",
        "        print(f\"Distances for test point {x_test_point}: {distance_point['dist'].tolist()}\")\n",
        "        df_nearest_point = nearest_neighbors(distance_point, K)\n",
        "        print(f\"Nearest neighbors for test point {x_test_point}:\")\n",
        "        print(df_nearest_point)\n",
        "        y_pred_point = voting(df_nearest_point, y_train)\n",
        "        y_pred.append(y_pred_point)\n",
        "    return np.array(y_pred)\n"
      ],
      "metadata": {
        "id": "6U8Z1an5HgDl"
      },
      "execution_count": null,
      "outputs": []
    },
    {
      "cell_type": "code",
      "source": [
        "# Function to map predicted class numbers to labels\n",
        "def map_labels(y_pred):\n",
        "    return [\"Comedy\" if pred == 1 else \"Action\" for pred in y_pred]\n"
      ],
      "metadata": {
        "id": "oduF9noRHhmA"
      },
      "execution_count": null,
      "outputs": []
    },
    {
      "cell_type": "code",
      "source": [
        "# Calculate accuracy for different k values\n",
        "k_values = [1, 3]\n",
        "for k in k_values:\n",
        "    y_pred_validation = KNN_from_scratch(san_gup_train, san_gup_classes, VAL_val, k)\n",
        "    accuracy = accuracy_score(VAL_classes, y_pred_validation)\n",
        "    print(f'Accuracy for k={k}: {accuracy}')\n"
      ],
      "metadata": {
        "colab": {
          "base_uri": "https://localhost:8080/"
        },
        "id": "Rgbk29q6HnMS",
        "outputId": "8507ac38-3e69-4e52-b5ac-98190465d553"
      },
      "execution_count": null,
      "outputs": [
        {
          "output_type": "stream",
          "name": "stdout",
          "text": [
            "Distances for test point [95  6]: [7.810249675906654, 133.64505228402584, 116.0, 17.204650534085253]\n",
            "Nearest neighbors for test point [95  6]:\n",
            "      dist\n",
            "0  7.81025\n",
            "Distances for test point [85 15]: [21.213203435596427, 120.20815280171308, 102.59142264341595, 5.0]\n",
            "Nearest neighbors for test point [85 15]:\n",
            "   dist\n",
            "3   5.0\n",
            "Accuracy for k=1: 0.5\n",
            "Distances for test point [95  6]: [7.810249675906654, 133.64505228402584, 116.0, 17.204650534085253]\n",
            "Nearest neighbors for test point [95  6]:\n",
            "         dist\n",
            "0    7.810250\n",
            "3   17.204651\n",
            "2  116.000000\n",
            "Distances for test point [85 15]: [21.213203435596427, 120.20815280171308, 102.59142264341595, 5.0]\n",
            "Nearest neighbors for test point [85 15]:\n",
            "         dist\n",
            "3    5.000000\n",
            "0   21.213203\n",
            "2  102.591423\n",
            "Accuracy for k=3: 0.5\n"
          ]
        }
      ]
    },
    {
      "cell_type": "code",
      "source": [
        "# Use the best k for test data (Assume k=1 for this example)\n",
        "best_k = 1\n",
        "y_pred_test = KNN_from_scratch(san_gup_train, san_gup_classes, TEST_test, best_k)\n"
      ],
      "metadata": {
        "colab": {
          "base_uri": "https://localhost:8080/"
        },
        "id": "udM_UNnIHrMi",
        "outputId": "6f62ec41-8420-440d-ac4b-b9bdad1c5304"
      },
      "execution_count": null,
      "outputs": [
        {
          "output_type": "stream",
          "name": "stdout",
          "text": [
            "Distances for test point [70  6]: [30.59411708155671, 117.2006825918689, 100.40418317978589, 20.518284528683193]\n",
            "Nearest neighbors for test point [70  6]:\n",
            "        dist\n",
            "3  20.518285\n",
            "Distances for test point [93 23]: [24.041630560342615, 120.7393887677091, 102.82509421342633, 8.54400374531753]\n",
            "Nearest neighbors for test point [93 23]:\n",
            "       dist\n",
            "3  8.544004\n",
            "Distances for test point [50 50]: [70.71067811865476, 70.71067811865476, 53.150729063673246, 46.09772228646444]\n",
            "Nearest neighbors for test point [50 50]:\n",
            "        dist\n",
            "3  46.097722\n"
          ]
        }
      ]
    },
    {
      "cell_type": "code",
      "source": [
        "# Map the predicted classes to their labels\n",
        "y_pred_test_labels = map_labels(y_pred_test)\n",
        "\n",
        "print(f'Predicted classes for test data with k={best_k}: {y_pred_test_labels}')\n"
      ],
      "metadata": {
        "colab": {
          "base_uri": "https://localhost:8080/"
        },
        "id": "Wr835zHnHvTR",
        "outputId": "1d08fb39-3432-49d4-ff60-4a19e41b60b7"
      },
      "execution_count": null,
      "outputs": [
        {
          "output_type": "stream",
          "name": "stdout",
          "text": [
            "Predicted classes for test data with k=1: ['Comedy', 'Comedy', 'Comedy']\n"
          ]
        }
      ]
    },
    {
      "cell_type": "code",
      "source": [],
      "metadata": {
        "id": "pSrNwx_8Hz6Z"
      },
      "execution_count": null,
      "outputs": []
    }
  ]
}